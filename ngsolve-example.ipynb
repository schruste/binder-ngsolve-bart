{
 "cells": [
  {
   "cell_type": "code",
   "execution_count": null,
   "metadata": {
    "code_folding": [
     0
    ]
   },
   "outputs": [],
   "source": [
    "#imports\n",
    "import logging\n",
    "\n",
    "from netgen.geom2d import SplineGeometry\n",
    "import ngsolve as ngs\n",
    "import numpy as np\n",
    "from ngsolve.webgui import Draw\n",
    "\n",
    "from regpy.discrs.ngsolve import NgsSpace\n",
    "from regpy.hilbert import L2, Sobolev\n",
    "from regpy.operators.ngsolve import Coefficient\n",
    "from regpy.solvers import HilbertSpaceSetting\n",
    "from regpy.solvers.landweber import Landweber\n",
    "from regpy.solvers.irgnm import IrgnmCG\n",
    "import regpy.stoprules as rules"
   ]
  },
  {
   "cell_type": "code",
   "execution_count": null,
   "metadata": {},
   "outputs": [],
   "source": [
    "# logging\n",
    "logging.basicConfig(\n",
    "    level=logging.INFO,\n",
    "    format='%(asctime)s %(levelname)s %(name)-40s :: %(message)s'\n",
    ")"
   ]
  },
  {
   "cell_type": "markdown",
   "metadata": {},
   "source": [
    "Geometry and mesh:"
   ]
  },
  {
   "cell_type": "code",
   "execution_count": null,
   "metadata": {},
   "outputs": [],
   "source": [
    "geo = SplineGeometry()\n",
    "geo.AddRectangle((0.4, 0.45), (0.6, 0.55), leftdomain=0, rightdomain=1)\n",
    "geo.AddRectangle((0, 0), (1, 1), bcs=[\"bottom\",\"right\",\"top\",\"left\"], leftdomain=1)\n",
    "mesh = ngs.Mesh(geo.GenerateMesh(maxh=0.4))"
   ]
  },
  {
   "cell_type": "markdown",
   "metadata": {},
   "source": [
    "Spaces for state (domain) und data (codomain):"
   ]
  },
  {
   "cell_type": "code",
   "execution_count": null,
   "metadata": {},
   "outputs": [],
   "source": [
    "fes_domain = ngs.H1(mesh, order=1)\n",
    "domain = NgsSpace(fes_domain)\n",
    "bdr = \"left|top|right|bottom\"\n",
    "fes_codomain = ngs.H1(mesh, order=3, dirichlet=bdr)\n",
    "codomain = NgsSpace(fes_codomain) #, bdr=bdr)"
   ]
  },
  {
   "cell_type": "markdown",
   "metadata": {},
   "source": [
    "regpy-NGSolve formulation of the problem:"
   ]
  },
  {
   "cell_type": "code",
   "execution_count": null,
   "metadata": {},
   "outputs": [],
   "source": [
    "noiselevel = 0.01\n",
    "\n",
    "cfu_exact_solution = ngs.x * (1 - ngs.x) * ngs.y * (1 - ngs.y) # 1 + ngs.x\n",
    "exact_solution = domain.from_ngs(cfu_exact_solution)\n",
    "\n",
    "rhs=10 * ngs.sin(ngs.x) * ngs.sin(ngs.y)\n",
    "op = Coefficient(\n",
    "    domain, rhs, codomain=codomain, \n",
    "    #bc = cfu_exact_solution, \n",
    "    diffusion=False,\n",
    "    reaction=True\n",
    ")\n"
   ]
  },
  {
   "cell_type": "code",
   "execution_count": null,
   "metadata": {},
   "outputs": [],
   "source": [
    "noise = noiselevel * np.random.randn(codomain.fes.ndof)\n",
    "data = op(exact_solution) + noise"
   ]
  },
  {
   "cell_type": "code",
   "execution_count": null,
   "metadata": {},
   "outputs": [],
   "source": [
    "setting = HilbertSpaceSetting(op=op, Hdomain=L2, Hcodomain=Sobolev)\n",
    "\n",
    "init = domain.from_ngs ( cfu_exact_solution )\n",
    "init_data = op(init)\n",
    "\n",
    "landweber = Landweber(setting, data, init, stepsize=1)\n",
    "stoprule = (\n",
    "        rules.CountIterations(200) +\n",
    "        rules.Discrepancy(setting.Hcodomain.norm, \n",
    "            data, noiselevel=setting.Hcodomain.norm(noise), \n",
    "            tau=1.1)\n",
    "        )\n",
    "\n",
    "reco, reco_data = landweber.run(stoprule)\n",
    "\n",
    "#reco, reco_data = IrgnmCG(\n",
    "#    setting, data,\n",
    "#    init=domain.from_ngs(1 + ngs.x + 5*ngs.x*(1-ngs.x)*ngs.y*(1-ngs.y)),\n",
    "#    regpar=0.1, regpar_step=2/3, cgstop=100,\n",
    "#).run(\n",
    "#    rules.CountIterations(20) +\n",
    "#    rules.Discrepancy(setting.Hcodomain.norm, data, noiselevel=setting.Hcodomain.norm(noise), tau=1.01)\n",
    "#)\n",
    "\n",
    "gfu_reco = op.domain.to_ngs(reco)"
   ]
  },
  {
   "cell_type": "code",
   "execution_count": null,
   "metadata": {},
   "outputs": [],
   "source": [
    "Draw(cfu_exact_solution, mesh, \"exact\")"
   ]
  },
  {
   "cell_type": "code",
   "execution_count": null,
   "metadata": {},
   "outputs": [],
   "source": [
    "Draw(gfu_reco, mesh, \"reco\", deformation = True)"
   ]
  },
  {
   "cell_type": "code",
   "execution_count": null,
   "metadata": {},
   "outputs": [],
   "source": [
    "Draw(gfu_reco - cfu_exact_solution, mesh, \"diff\", deformation = True)"
   ]
  }
 ],
 "metadata": {
  "kernelspec": {
   "display_name": "Python 3",
   "language": "python",
   "name": "python3"
  },
  "language_info": {
   "codemirror_mode": {
    "name": "ipython",
    "version": 3
   },
   "file_extension": ".py",
   "mimetype": "text/x-python",
   "name": "python",
   "nbconvert_exporter": "python",
   "pygments_lexer": "ipython3",
   "version": "3.9.7"
  },
  "toc": {
   "base_numbering": 1,
   "nav_menu": {},
   "number_sections": true,
   "sideBar": true,
   "skip_h1_title": false,
   "title_cell": "Table of Contents",
   "title_sidebar": "Contents",
   "toc_cell": false,
   "toc_position": {},
   "toc_section_display": true,
   "toc_window_display": false
  },
  "varInspector": {
   "cols": {
    "lenName": 16,
    "lenType": 16,
    "lenVar": 40
   },
   "kernels_config": {
    "python": {
     "delete_cmd_postfix": "",
     "delete_cmd_prefix": "del ",
     "library": "var_list.py",
     "varRefreshCmd": "print(var_dic_list())"
    },
    "r": {
     "delete_cmd_postfix": ") ",
     "delete_cmd_prefix": "rm(",
     "library": "var_list.r",
     "varRefreshCmd": "cat(var_dic_list()) "
    }
   },
   "types_to_exclude": [
    "module",
    "function",
    "builtin_function_or_method",
    "instance",
    "_Feature"
   ],
   "window_display": false
  }
 },
 "nbformat": 4,
 "nbformat_minor": 4
}
